{
 "cells": [
  {
   "cell_type": "code",
   "execution_count": 12,
   "metadata": {},
   "outputs": [
    {
     "name": "stdout",
     "output_type": "stream",
     "text": [
      " 3 \n",
      " 4 \n",
      " 2.0 \n",
      "\n"
     ]
    }
   ],
   "source": [
    "\n",
    "# 1 ) solicitar número do usuario\n",
    "\n",
    "num1 = int(input(\"Digite o primeiro número inteiro: \"))\n",
    "num2 = int(input(\"Digite o segundo número inteiro: \"))\n",
    "num_real = float(input(\"Digite um número real : \"))\n",
    "print(\"\",num1,\"\\n\",num2,\"\\n\",num_real,\"\\n\")"
   ]
  },
  {
   "cell_type": "code",
   "execution_count": 13,
   "metadata": {},
   "outputs": [
    {
     "name": "stdout",
     "output_type": "stream",
     "text": [
      "O dobro do primeiro número com a metade do segundo número é:  12.0\n"
     ]
    }
   ],
   "source": [
    "# a)calculo do dobro do primeiro com a metade do segundo\n",
    "\n",
    "resultado = (2 *num1 ) * (num2 / 2)\n",
    "#exibindo calculo\n",
    "\n",
    "print(\"O dobro do primeiro número com a metade do segundo número é: \",resultado)"
   ]
  },
  {
   "cell_type": "code",
   "execution_count": 14,
   "metadata": {},
   "outputs": [
    {
     "name": "stdout",
     "output_type": "stream",
     "text": [
      "17.0\n"
     ]
    }
   ],
   "source": [
    "#b) a soma do triplo do primeiro com o terceiro, o terceiro elevado ao cubo\n",
    "print(num1 * 3 + num_real**3)"
   ]
  },
  {
   "cell_type": "code",
   "execution_count": 16,
   "metadata": {},
   "outputs": [
    {
     "name": "stdout",
     "output_type": "stream",
     "text": [
      " 3.0 \n",
      " 7.0 \n",
      "\n",
      "O maior numero é:  7.0\n"
     ]
    }
   ],
   "source": [
    "# 2) Faça um Programa que peça dois números e imprima o maior deles.\n",
    "\n",
    "nume1 = float(input(\"Digite o primeiro número inteiro: \"))\n",
    "nume2= float(input(\"Digite o segundo número inteiro: \"))\n",
    "\n",
    "print(\"\",nume1,\"\\n\",nume2,\"\\n\")\n",
    "\n",
    "#verificando qual vai ser maior\n",
    "\n",
    "if nume1 >  nume2:\n",
    "    print(\"O maior número é: \",nume1)\n",
    "elif num2 > nume1:\n",
    "    print(\"O maior numero é: \",nume2)\n",
    "else:\n",
    "    print(\"Os números são iguais.\")"
   ]
  },
  {
   "cell_type": "code",
   "execution_count": 22,
   "metadata": {},
   "outputs": [
    {
     "name": "stdout",
     "output_type": "stream",
     "text": [
      "O valor: 5.0\n",
      "É positivo.\n"
     ]
    }
   ],
   "source": [
    "# 3) Faça um Programa que peça um valor e mostre na tela se o valor é positivo ou negativo.\n",
    "\n",
    "valor = float(input(\"Digite um valor: \"))\n",
    "print(\"O valor:\",valor)\n",
    "\n",
    "#Verificando se o valor é negativo, positivo ou zero\n",
    "\n",
    "if valor > 0:\n",
    "    print(\"É positivo.\")\n",
    "elif valor < 0:\n",
    "    print(\"É negativo.\")\n",
    "else:\n",
    "    print(\"É igual a ZERO.\")"
   ]
  },
  {
   "cell_type": "code",
   "execution_count": 32,
   "metadata": {},
   "outputs": [
    {
     "name": "stdout",
     "output_type": "stream",
     "text": [
      "Primeira nota: 7.0\n",
      "Segunda nota: 8.9\n",
      "O aluno foi aprovado, média:  7.95\n"
     ]
    }
   ],
   "source": [
    "# 4) Faça um programa para a leitura de duas notas parciais de um aluno. O programa deve calcular a média alcançada por aluno e apresentar o resultado \"Aprovado\" ou \"Reprovado\". Considere que a escola adota média 7.00.\n",
    "\n",
    "nota1 = float(input(\"A primeira nota do aluno(a) foi: \"))\n",
    "nota2 = float(input(\"A segunda nota do aluno(a) foi: \"))\n",
    "media = (nota1 + nota2) / 2\n",
    "\n",
    "print(\"Primeira nota:\",nota1)\n",
    "print(\"Segunda nota:\",nota2)\n",
    "\n",
    "if (media >= 7):\n",
    "    print(\"O aluno foi aprovado, média: \",media)\n",
    "else:\n",
    "    print(\"O aluno foi reprovado, média: \",media)"
   ]
  },
  {
   "cell_type": "code",
   "execution_count": 56,
   "metadata": {},
   "outputs": [
    {
     "name": "stdout",
     "output_type": "stream",
     "text": [
      "Os números escolhidos foram:\n",
      " 4.0 \n",
      " 6.0 \n",
      " 9.0\n",
      "O maior número é: 9.0\n"
     ]
    }
   ],
   "source": [
    "#5)Faça um Programa que leia três números e mostre o maior deles.\n",
    "\n",
    "numero1 = float(input(\"Digite o primeiro número: \"))\n",
    "numero2 = float(input(\"Digite o segundo número: \"))\n",
    "numero3 = float(input(\"Digite o terceiro número: \"))\n",
    "\n",
    "\n",
    "print(\"Os números escolhidos foram:\\n\", numero1, \"\\n\", numero2, \"\\n\", numero3)\n",
    "\n",
    "\n",
    "\n",
    "if numero1 > numero2 and numero1 >  numero3:\n",
    "    print(\"O maior número é:\",numero1)\n",
    "elif numero2 > numero1 and numero2 > numero3:\n",
    "    print(\"O maior número é:\",numero2)\n",
    "elif numero3 > numero1 and numero3 > numero2:\n",
    "    print(\"O maior número é:\",numero3)\n",
    "else:\n",
    "    print(\"Os números são iguais\")\n",
    "\n"
   ]
  }
 ],
 "metadata": {
  "kernelspec": {
   "display_name": "Python 3",
   "language": "python",
   "name": "python3"
  },
  "language_info": {
   "codemirror_mode": {
    "name": "ipython",
    "version": 3
   },
   "file_extension": ".py",
   "mimetype": "text/x-python",
   "name": "python",
   "nbconvert_exporter": "python",
   "pygments_lexer": "ipython3",
   "version": "3.11.9"
  }
 },
 "nbformat": 4,
 "nbformat_minor": 2
}
